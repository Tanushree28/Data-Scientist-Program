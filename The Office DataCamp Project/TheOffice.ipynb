{
 "cells": [
  {
   "cell_type": "markdown",
   "metadata": {
    "dc": {
     "key": "4"
    },
    "deletable": false,
    "editable": false,
    "run_control": {
     "frozen": true
    },
    "tags": [
     "context"
    ]
   },
   "source": [
    "## 1. Welcome!\n",
    "<p><img src=\"https://assets.datacamp.com/production/project_1170/img/office_cast.jpeg\" alt=\"Markdown\">.</p>\n",
    "<p><strong>The Office!</strong> What started as a British mockumentary series about office culture in 2001 has since spawned ten other variants across the world, including an Israeli version (2010-13), a Hindi version (2019-), and even a French Canadian variant (2006-2007). Of all these iterations (including the original), the American series has been the longest-running, spanning 201 episodes over nine seasons.</p>\n",
    "<p>In this notebook, we will take a look at a dataset of The Office episodes, and try to understand how the popularity and quality of the series varied over time. To do so, we will use the following dataset: <code>datasets/office_episodes.csv</code>, which was downloaded from Kaggle <a href=\"https://www.kaggle.com/nehaprabhavalkar/the-office-dataset\">here</a>.</p>\n",
    "<p>This dataset contains information on a variety of characteristics of each episode. In detail, these are:\n",
    "<br></p>\n",
    "<div style=\"background-color: #efebe4; color: #05192d; text-align:left; vertical-align: middle; padding: 15px 25px 15px 25px; line-height: 1.6;\">\n",
    "    <div style=\"font-size:20px\"><b>datasets/office_episodes.csv</b></div>\n",
    "<ul>\n",
    "    <li><b>episode_number:</b> Canonical episode number.</li>\n",
    "    <li><b>season:</b> Season in which the episode appeared.</li>\n",
    "    <li><b>episode_title:</b> Title of the episode.</li>\n",
    "    <li><b>description:</b> Description of the episode.</li>\n",
    "    <li><b>ratings:</b> Average IMDB rating.</li>\n",
    "    <li><b>votes:</b> Number of votes.</li>\n",
    "    <li><b>viewership_mil:</b> Number of US viewers in millions.</li>\n",
    "    <li><b>duration:</b> Duration in number of minutes.</li>\n",
    "    <li><b>release_date:</b> Airdate.</li>\n",
    "    <li><b>guest_stars:</b> Guest stars in the episode (if any).</li>\n",
    "    <li><b>director:</b> Director of the episode.</li>\n",
    "    <li><b>writers:</b> Writers of the episode.</li>\n",
    "    <li><b>has_guests:</b> True/False column for whether the episode contained guest stars.</li>\n",
    "    <li><b>scaled_ratings:</b> The ratings scaled from 0 (worst-reviewed) to 1 (best-reviewed).</li>\n",
    "</ul>\n",
    "    </div>"
   ]
  },
  {
   "cell_type": "raw",
   "metadata": {},
   "source": [
    "THE OFFICE"
   ]
  },
  {
   "cell_type": "code",
   "execution_count": 1,
   "metadata": {
    "dc": {
     "key": "4"
    },
    "tags": [
     "sample_code"
    ]
   },
   "outputs": [
    {
     "data": {
      "text/html": [
       "<div>\n",
       "<style scoped>\n",
       "    .dataframe tbody tr th:only-of-type {\n",
       "        vertical-align: middle;\n",
       "    }\n",
       "\n",
       "    .dataframe tbody tr th {\n",
       "        vertical-align: top;\n",
       "    }\n",
       "\n",
       "    .dataframe thead th {\n",
       "        text-align: right;\n",
       "    }\n",
       "</style>\n",
       "<table border=\"1\" class=\"dataframe\">\n",
       "  <thead>\n",
       "    <tr style=\"text-align: right;\">\n",
       "      <th></th>\n",
       "      <th>episode_number</th>\n",
       "      <th>season</th>\n",
       "      <th>episode_title</th>\n",
       "      <th>description</th>\n",
       "      <th>ratings</th>\n",
       "      <th>votes</th>\n",
       "      <th>viewership_mil</th>\n",
       "      <th>duration</th>\n",
       "      <th>release_date</th>\n",
       "      <th>guest_stars</th>\n",
       "      <th>director</th>\n",
       "      <th>writers</th>\n",
       "      <th>has_guests</th>\n",
       "      <th>scaled_ratings</th>\n",
       "    </tr>\n",
       "  </thead>\n",
       "  <tbody>\n",
       "    <tr>\n",
       "      <th>0</th>\n",
       "      <td>0</td>\n",
       "      <td>1</td>\n",
       "      <td>Pilot</td>\n",
       "      <td>The premiere episode introduces the boss and s...</td>\n",
       "      <td>7.5</td>\n",
       "      <td>4936</td>\n",
       "      <td>11.20</td>\n",
       "      <td>23</td>\n",
       "      <td>2005-03-24</td>\n",
       "      <td>NaN</td>\n",
       "      <td>Ken Kwapis</td>\n",
       "      <td>Ricky Gervais |Stephen Merchant and Greg Daniels</td>\n",
       "      <td>False</td>\n",
       "      <td>0.28125</td>\n",
       "    </tr>\n",
       "    <tr>\n",
       "      <th>1</th>\n",
       "      <td>1</td>\n",
       "      <td>1</td>\n",
       "      <td>Diversity Day</td>\n",
       "      <td>Michael's off color remark puts a sensitivity ...</td>\n",
       "      <td>8.3</td>\n",
       "      <td>4801</td>\n",
       "      <td>6.00</td>\n",
       "      <td>23</td>\n",
       "      <td>2005-03-29</td>\n",
       "      <td>NaN</td>\n",
       "      <td>Ken Kwapis</td>\n",
       "      <td>B. J. Novak</td>\n",
       "      <td>False</td>\n",
       "      <td>0.53125</td>\n",
       "    </tr>\n",
       "    <tr>\n",
       "      <th>2</th>\n",
       "      <td>2</td>\n",
       "      <td>1</td>\n",
       "      <td>Health Care</td>\n",
       "      <td>Michael leaves Dwight in charge of picking the...</td>\n",
       "      <td>7.8</td>\n",
       "      <td>4024</td>\n",
       "      <td>5.80</td>\n",
       "      <td>22</td>\n",
       "      <td>2005-04-05</td>\n",
       "      <td>NaN</td>\n",
       "      <td>Ken Whittingham</td>\n",
       "      <td>Paul Lieberstein</td>\n",
       "      <td>False</td>\n",
       "      <td>0.37500</td>\n",
       "    </tr>\n",
       "    <tr>\n",
       "      <th>3</th>\n",
       "      <td>3</td>\n",
       "      <td>1</td>\n",
       "      <td>The Alliance</td>\n",
       "      <td>Just for a laugh, Jim agrees to an alliance wi...</td>\n",
       "      <td>8.1</td>\n",
       "      <td>3915</td>\n",
       "      <td>5.40</td>\n",
       "      <td>23</td>\n",
       "      <td>2005-04-12</td>\n",
       "      <td>NaN</td>\n",
       "      <td>Bryan Gordon</td>\n",
       "      <td>Michael Schur</td>\n",
       "      <td>False</td>\n",
       "      <td>0.46875</td>\n",
       "    </tr>\n",
       "    <tr>\n",
       "      <th>4</th>\n",
       "      <td>4</td>\n",
       "      <td>1</td>\n",
       "      <td>Basketball</td>\n",
       "      <td>Michael and his staff challenge the warehouse ...</td>\n",
       "      <td>8.4</td>\n",
       "      <td>4294</td>\n",
       "      <td>5.00</td>\n",
       "      <td>23</td>\n",
       "      <td>2005-04-19</td>\n",
       "      <td>NaN</td>\n",
       "      <td>Greg Daniels</td>\n",
       "      <td>Greg Daniels</td>\n",
       "      <td>False</td>\n",
       "      <td>0.56250</td>\n",
       "    </tr>\n",
       "    <tr>\n",
       "      <th>5</th>\n",
       "      <td>5</td>\n",
       "      <td>1</td>\n",
       "      <td>Hot Girl</td>\n",
       "      <td>Michael is just one of the many male staff who...</td>\n",
       "      <td>7.7</td>\n",
       "      <td>3854</td>\n",
       "      <td>4.80</td>\n",
       "      <td>23</td>\n",
       "      <td>2005-04-26</td>\n",
       "      <td>Amy Adams</td>\n",
       "      <td>Amy Heckerling</td>\n",
       "      <td>Mindy Kaling</td>\n",
       "      <td>True</td>\n",
       "      <td>0.34375</td>\n",
       "    </tr>\n",
       "    <tr>\n",
       "      <th>6</th>\n",
       "      <td>6</td>\n",
       "      <td>2</td>\n",
       "      <td>The Dundies</td>\n",
       "      <td>Very much unlike his staff, an overeager Micha...</td>\n",
       "      <td>8.7</td>\n",
       "      <td>4315</td>\n",
       "      <td>9.00</td>\n",
       "      <td>21</td>\n",
       "      <td>2005-09-20</td>\n",
       "      <td>NaN</td>\n",
       "      <td>Greg Daniels</td>\n",
       "      <td>Mindy Kaling</td>\n",
       "      <td>False</td>\n",
       "      <td>0.65625</td>\n",
       "    </tr>\n",
       "    <tr>\n",
       "      <th>7</th>\n",
       "      <td>7</td>\n",
       "      <td>2</td>\n",
       "      <td>Sexual Harassment</td>\n",
       "      <td>The office reviews its sexual harassment polic...</td>\n",
       "      <td>8.2</td>\n",
       "      <td>3665</td>\n",
       "      <td>7.13</td>\n",
       "      <td>22</td>\n",
       "      <td>2005-09-27</td>\n",
       "      <td>NaN</td>\n",
       "      <td>Ken Kwapis</td>\n",
       "      <td>B. J. Novak</td>\n",
       "      <td>False</td>\n",
       "      <td>0.50000</td>\n",
       "    </tr>\n",
       "    <tr>\n",
       "      <th>8</th>\n",
       "      <td>8</td>\n",
       "      <td>2</td>\n",
       "      <td>Office Olympics</td>\n",
       "      <td>Ready to finalize his deal for a new condo, Mi...</td>\n",
       "      <td>8.4</td>\n",
       "      <td>3665</td>\n",
       "      <td>8.30</td>\n",
       "      <td>22</td>\n",
       "      <td>2005-10-04</td>\n",
       "      <td>Nancy Carell</td>\n",
       "      <td>Paul Feig</td>\n",
       "      <td>Michael Schur</td>\n",
       "      <td>True</td>\n",
       "      <td>0.56250</td>\n",
       "    </tr>\n",
       "    <tr>\n",
       "      <th>9</th>\n",
       "      <td>9</td>\n",
       "      <td>2</td>\n",
       "      <td>The Fire</td>\n",
       "      <td>A fire in the kitchen relegates the staff to t...</td>\n",
       "      <td>8.4</td>\n",
       "      <td>3607</td>\n",
       "      <td>7.60</td>\n",
       "      <td>22</td>\n",
       "      <td>2005-10-11</td>\n",
       "      <td>Amy Adams</td>\n",
       "      <td>Ken Kwapis</td>\n",
       "      <td>B. J. Novak</td>\n",
       "      <td>True</td>\n",
       "      <td>0.56250</td>\n",
       "    </tr>\n",
       "  </tbody>\n",
       "</table>\n",
       "</div>"
      ],
      "text/plain": [
       "   episode_number  season      episode_title  \\\n",
       "0               0       1              Pilot   \n",
       "1               1       1      Diversity Day   \n",
       "2               2       1        Health Care   \n",
       "3               3       1       The Alliance   \n",
       "4               4       1         Basketball   \n",
       "5               5       1           Hot Girl   \n",
       "6               6       2        The Dundies   \n",
       "7               7       2  Sexual Harassment   \n",
       "8               8       2    Office Olympics   \n",
       "9               9       2           The Fire   \n",
       "\n",
       "                                         description  ratings  votes  \\\n",
       "0  The premiere episode introduces the boss and s...      7.5   4936   \n",
       "1  Michael's off color remark puts a sensitivity ...      8.3   4801   \n",
       "2  Michael leaves Dwight in charge of picking the...      7.8   4024   \n",
       "3  Just for a laugh, Jim agrees to an alliance wi...      8.1   3915   \n",
       "4  Michael and his staff challenge the warehouse ...      8.4   4294   \n",
       "5  Michael is just one of the many male staff who...      7.7   3854   \n",
       "6  Very much unlike his staff, an overeager Micha...      8.7   4315   \n",
       "7  The office reviews its sexual harassment polic...      8.2   3665   \n",
       "8  Ready to finalize his deal for a new condo, Mi...      8.4   3665   \n",
       "9  A fire in the kitchen relegates the staff to t...      8.4   3607   \n",
       "\n",
       "   viewership_mil  duration release_date   guest_stars         director  \\\n",
       "0           11.20        23   2005-03-24           NaN       Ken Kwapis   \n",
       "1            6.00        23   2005-03-29           NaN       Ken Kwapis   \n",
       "2            5.80        22   2005-04-05           NaN  Ken Whittingham   \n",
       "3            5.40        23   2005-04-12           NaN     Bryan Gordon   \n",
       "4            5.00        23   2005-04-19           NaN     Greg Daniels   \n",
       "5            4.80        23   2005-04-26     Amy Adams   Amy Heckerling   \n",
       "6            9.00        21   2005-09-20           NaN     Greg Daniels   \n",
       "7            7.13        22   2005-09-27           NaN       Ken Kwapis   \n",
       "8            8.30        22   2005-10-04  Nancy Carell        Paul Feig   \n",
       "9            7.60        22   2005-10-11     Amy Adams       Ken Kwapis   \n",
       "\n",
       "                                            writers  has_guests  \\\n",
       "0  Ricky Gervais |Stephen Merchant and Greg Daniels       False   \n",
       "1                                       B. J. Novak       False   \n",
       "2                                  Paul Lieberstein       False   \n",
       "3                                     Michael Schur       False   \n",
       "4                                      Greg Daniels       False   \n",
       "5                                      Mindy Kaling        True   \n",
       "6                                      Mindy Kaling       False   \n",
       "7                                       B. J. Novak       False   \n",
       "8                                     Michael Schur        True   \n",
       "9                                       B. J. Novak        True   \n",
       "\n",
       "   scaled_ratings  \n",
       "0         0.28125  \n",
       "1         0.53125  \n",
       "2         0.37500  \n",
       "3         0.46875  \n",
       "4         0.56250  \n",
       "5         0.34375  \n",
       "6         0.65625  \n",
       "7         0.50000  \n",
       "8         0.56250  \n",
       "9         0.56250  "
      ]
     },
     "execution_count": 1,
     "metadata": {},
     "output_type": "execute_result"
    }
   ],
   "source": [
    "# Use this cell to begin your analysis, and add as many as you would like!\n",
    "import pandas as pd\n",
    "import matplotlib.pyplot as plt\n",
    "\n",
    "plt.rcParams['figure.figsize'] = [11, 7]\n",
    "\n",
    "# Read data from CSV\n",
    "office_df = pd.read_csv('datasets/office_episodes.csv')\n",
    "\n",
    "# Print the first ten rows of the DataFrame\n",
    "office_df.head(10)"
   ]
  },
  {
   "cell_type": "code",
   "execution_count": 2,
   "metadata": {
    "dc": {
     "key": "4"
    }
   },
   "outputs": [
    {
     "name": "stdout",
     "output_type": "stream",
     "text": [
      "<class 'pandas.core.frame.DataFrame'>\n",
      "RangeIndex: 188 entries, 0 to 187\n",
      "Data columns (total 14 columns):\n",
      " #   Column          Non-Null Count  Dtype  \n",
      "---  ------          --------------  -----  \n",
      " 0   episode_number  188 non-null    int64  \n",
      " 1   season          188 non-null    int64  \n",
      " 2   episode_title   188 non-null    object \n",
      " 3   description     188 non-null    object \n",
      " 4   ratings         188 non-null    float64\n",
      " 5   votes           188 non-null    int64  \n",
      " 6   viewership_mil  188 non-null    float64\n",
      " 7   duration        188 non-null    int64  \n",
      " 8   release_date    188 non-null    object \n",
      " 9   guest_stars     29 non-null     object \n",
      " 10  director        188 non-null    object \n",
      " 11  writers         188 non-null    object \n",
      " 12  has_guests      188 non-null    bool   \n",
      " 13  scaled_ratings  188 non-null    float64\n",
      "dtypes: bool(1), float64(3), int64(4), object(6)\n",
      "memory usage: 19.4+ KB\n"
     ]
    }
   ],
   "source": [
    "# verify that data is imported with valid dtypes and check non-null values\n",
    "office_df.info()"
   ]
  },
  {
   "cell_type": "code",
   "execution_count": 3,
   "metadata": {},
   "outputs": [
    {
     "data": {
      "text/plain": [
       "count    188.000000\n",
       "mean       8.237234\n",
       "std        0.589930\n",
       "min        6.600000\n",
       "25%        7.800000\n",
       "50%        8.200000\n",
       "75%        8.600000\n",
       "max        9.800000\n",
       "Name: ratings, dtype: float64"
      ]
     },
     "execution_count": 3,
     "metadata": {},
     "output_type": "execute_result"
    }
   ],
   "source": [
    "#Check some basic statistical details\n",
    "office_df['ratings'].describe()"
   ]
  },
  {
   "cell_type": "code",
   "execution_count": 4,
   "metadata": {
    "dc": {
     "key": "4"
    }
   },
   "outputs": [
    {
     "data": {
      "text/plain": [
       "['orange',\n",
       " 'lightgreen',\n",
       " 'orange',\n",
       " 'orange',\n",
       " 'lightgreen',\n",
       " 'orange',\n",
       " 'lightgreen',\n",
       " 'orange',\n",
       " 'lightgreen',\n",
       " 'lightgreen']"
      ]
     },
     "execution_count": 4,
     "metadata": {},
     "output_type": "execute_result"
    }
   ],
   "source": [
    "# Define color for each value based on scaled rating to visualize it\n",
    "cols = []\n",
    "\n",
    "for ind, row in office_df.iterrows():\n",
    "    if row['scaled_ratings'] <0.25:\n",
    "        cols.append('red')\n",
    "    elif row['scaled_ratings'] <0.50:\n",
    "        cols.append('orange')\n",
    "    elif row['scaled_ratings'] <0.75:\n",
    "        cols.append('lightgreen')\n",
    "    else:\n",
    "        cols.append('darkgreen')\n",
    "\n",
    "# Inspect the first 10 values in the list      \n",
    "cols[:10]"
   ]
  },
  {
   "cell_type": "code",
   "execution_count": 5,
   "metadata": {
    "dc": {
     "key": "4"
    }
   },
   "outputs": [
    {
     "data": {
      "text/plain": [
       "[25, 25, 25, 25, 25, 250, 25, 25, 250, 250]"
      ]
     },
     "execution_count": 5,
     "metadata": {},
     "output_type": "execute_result"
    }
   ],
   "source": [
    "#Specifying a list so the visualisation shows a larger size for episodes in which there were guests\n",
    "sizes = []\n",
    "\n",
    "for ind, row in office_df.iterrows():\n",
    "    if row['has_guests'] == False:\n",
    "        sizes.append(25)\n",
    "    else:\n",
    "        sizes.append(250)\n",
    "\n",
    "# Inspect the first 10 values in the list\n",
    "sizes[:10]"
   ]
  },
  {
   "cell_type": "code",
   "execution_count": 6,
   "metadata": {
    "dc": {
     "key": "4"
    }
   },
   "outputs": [
    {
     "name": "stdout",
     "output_type": "stream",
     "text": [
      "<class 'pandas.core.frame.DataFrame'>\n",
      "RangeIndex: 188 entries, 0 to 187\n",
      "Data columns (total 16 columns):\n",
      " #   Column          Non-Null Count  Dtype  \n",
      "---  ------          --------------  -----  \n",
      " 0   episode_number  188 non-null    int64  \n",
      " 1   season          188 non-null    int64  \n",
      " 2   episode_title   188 non-null    object \n",
      " 3   description     188 non-null    object \n",
      " 4   ratings         188 non-null    float64\n",
      " 5   votes           188 non-null    int64  \n",
      " 6   viewership_mil  188 non-null    float64\n",
      " 7   duration        188 non-null    int64  \n",
      " 8   release_date    188 non-null    object \n",
      " 9   guest_stars     29 non-null     object \n",
      " 10  director        188 non-null    object \n",
      " 11  writers         188 non-null    object \n",
      " 12  has_guests      188 non-null    bool   \n",
      " 13  scaled_ratings  188 non-null    float64\n",
      " 14  colors          188 non-null    object \n",
      " 15  sizes           188 non-null    int64  \n",
      "dtypes: bool(1), float64(3), int64(5), object(7)\n",
      "memory usage: 22.3+ KB\n"
     ]
    }
   ],
   "source": [
    "office_df['colors'] = cols\n",
    "office_df['sizes'] = sizes\n",
    "\n",
    "office_df.info()"
   ]
  },
  {
   "cell_type": "code",
   "execution_count": 7,
   "metadata": {
    "dc": {
     "key": "4"
    }
   },
   "outputs": [],
   "source": [
    "#Only guest star apperances and non-guest star apperances\n",
    "non_guest_df = office_df[office_df['has_guests'] == False]\n",
    "guest_df = office_df[office_df['has_guests'] == True]"
   ]
  },
  {
   "cell_type": "code",
   "execution_count": 8,
   "metadata": {
    "dc": {
     "key": "4"
    }
   },
   "outputs": [
    {
     "data": {
      "image/png": "[encoded data removed]",
      "text/plain": [
       "<Figure size 792x504 with 1 Axes>"
      ]
     },
     "metadata": {
      "needs_background": "light"
     },
     "output_type": "display_data"
    }
   ],
   "source": [
    "# Plotting non-guest starring episodes data\n",
    "fig = plt.figure()\n",
    "\n",
    "plt.scatter(x=non_guest_df['episode_number'], \n",
    "            y=non_guest_df['viewership_mil'],\n",
    "            c= non_guest_df['colors'],\n",
    "            s= non_guest_df['sizes']\n",
    "           )\n",
    "\n",
    "# Plotting guest starring episodes data\n",
    "plt.scatter(x= guest_df['episode_number'], \n",
    "            y= guest_df['viewership_mil'],\n",
    "            c=  guest_df['colors'],\n",
    "            s= guest_df['sizes'],\n",
    "            marker = '*'\n",
    "           )\n",
    "\n",
    "plt.title(\"Popularity, Quality, and Guest Appearances on the Office\")\n",
    "plt.xlabel(\"Episode Number\")\n",
    "plt.ylabel(\"Viewership (Millions)\")\n",
    "\n",
    "plt.show()"
   ]
  },
  {
   "cell_type": "code",
   "execution_count": 9,
   "metadata": {
    "dc": {
     "key": "4"
    }
   },
   "outputs": [
    {
     "data": {
      "image/png": "[encoded data removed]",
      "text/plain": [
       "<Figure size 792x504 with 1 Axes>"
      ]
     },
     "metadata": {
      "needs_background": "light"
     },
     "output_type": "display_data"
    }
   ],
   "source": [
    "#Plotting number of viwers in million per eposide number\n",
    "fig = plt.figure()\n",
    "\n",
    "# Create a scatter plot\n",
    "plt.scatter(x=office_df['episode_number'], \n",
    "            y=office_df['viewership_mil'],\n",
    "           c= cols,\n",
    "           s= sizes)\n",
    "\n",
    "# Create a title\n",
    "plt.title(\"Popularity, Quality, and Guest Appearances on the Office\")\n",
    "\n",
    "# Create an x-axis and an y-axis\n",
    "plt.xlabel(\"Episode Number\")\n",
    "plt.ylabel(\"Viewership (Millions)\")\n",
    "\n",
    "# Show the plot\n",
    "plt.show()"
   ]
  },
  {
   "cell_type": "code",
   "execution_count": 10,
   "metadata": {
    "dc": {
     "key": "4"
    }
   },
   "outputs": [
    {
     "data": {
      "text/html": [
       "<div>\n",
       "<style scoped>\n",
       "    .dataframe tbody tr th:only-of-type {\n",
       "        vertical-align: middle;\n",
       "    }\n",
       "\n",
       "    .dataframe tbody tr th {\n",
       "        vertical-align: top;\n",
       "    }\n",
       "\n",
       "    .dataframe thead th {\n",
       "        text-align: right;\n",
       "    }\n",
       "</style>\n",
       "<table border=\"1\" class=\"dataframe\">\n",
       "  <thead>\n",
       "    <tr style=\"text-align: right;\">\n",
       "      <th></th>\n",
       "      <th>guest_stars</th>\n",
       "    </tr>\n",
       "  </thead>\n",
       "  <tbody>\n",
       "    <tr>\n",
       "      <th>77</th>\n",
       "      <td>Cloris Leachman, Jack Black, Jessica Alba</td>\n",
       "    </tr>\n",
       "  </tbody>\n",
       "</table>\n",
       "</div>"
      ],
      "text/plain": [
       "                                  guest_stars\n",
       "77  Cloris Leachman, Jack Black, Jessica Alba"
      ]
     },
     "execution_count": 10,
     "metadata": {},
     "output_type": "execute_result"
    }
   ],
   "source": [
    "# The highest view\n",
    "highest_view = max(office_df[\"viewership_mil\"])\n",
    "\n",
    "# Filter the Dataframe row that has the most watched episode\n",
    "most_watched_dataframe = office_df.loc[office_df[\"viewership_mil\"] == highest_view]\n",
    "\n",
    "# Top guest stars that were in that episode\n",
    "top_stars = most_watched_dataframe[[\"guest_stars\"]]\n",
    "top_stars"
   ]
  },
  {
   "cell_type": "markdown",
   "metadata": {
    "dc": {
     "key": "4"
    },
    "jupyter": {
     "outputs_hidden": true
    }
   },
   "source": [
    "Check most viewed show's data:"
   ]
  },
  {
   "cell_type": "code",
   "execution_count": 11,
   "metadata": {},
   "outputs": [
    {
     "data": {
      "text/plain": [
       "episode_number                                                   77\n",
       "season                                                            5\n",
       "episode_title                                         Stress Relief\n",
       "description       Dwight's too-realistic fire alarm gives Stanle...\n",
       "ratings                                                         9.7\n",
       "votes                                                          8170\n",
       "viewership_mil                                                22.91\n",
       "duration                                                         60\n",
       "release_date                                             2009-02-01\n",
       "guest_stars               Cloris Leachman, Jack Black, Jessica Alba\n",
       "director                                              Jeffrey Blitz\n",
       "writers                                            Paul Lieberstein\n",
       "has_guests                                                     True\n",
       "scaled_ratings                                              0.96875\n",
       "colors                                                    darkgreen\n",
       "sizes                                                           250\n",
       "Name: 77, dtype: object"
      ]
     },
     "execution_count": 11,
     "metadata": {},
     "output_type": "execute_result"
    }
   ],
   "source": [
    "# Searches for most viewed show's index\n",
    "max_index = office_df['viewership_mil'].idxmax()\n",
    "    \n",
    "most_popular = office_df.loc[max_index]\n",
    "most_popular"
   ]
  },
  {
   "cell_type": "code",
   "execution_count": null,
   "metadata": {},
   "outputs": [],
   "source": []
  }
 ],
 "metadata": {
  "kernelspec": {
   "display_name": "Python 3",
   "language": "python",
   "name": "python3"
  },
  "language_info": {
   "codemirror_mode": {
    "name": "ipython",
    "version": 3
   },
   "file_extension": ".py",
   "mimetype": "text/x-python",
   "name": "python",
   "nbconvert_exporter": "python",
   "pygments_lexer": "ipython3",
   "version": "3.9.5"
  }
 },
 "nbformat": 4,
 "nbformat_minor": 4
}
