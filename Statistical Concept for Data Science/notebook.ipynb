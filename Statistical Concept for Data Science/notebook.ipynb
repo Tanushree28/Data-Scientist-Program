{
 "cells": [
  {
   "cell_type": "markdown",
   "id": "prostate-arizona",
   "metadata": {
    "id": "bA5ajAmk7XH6"
   },
   "source": [
    "# Statistical Thinking in Python (Part 1)\n",
    "\n",
    "👋 Welcome to your workspace! Here, you can write and run Python code and add text in [Markdown](https://www.markdownguide.org/basic-syntax/). Below, we've imported the datasets from the course _Statistical Thinking in Python (Part 1)_ as DataFrames as well as the packages used in the course. This is your sandbox environment: analyze the course datasets further, take notes, or experiment with code!"
   ]
  },
  {
   "cell_type": "code",
   "execution_count": 3,
   "id": "2e25fdd8-4d84-45bc-80f0-949917e00a17",
   "metadata": {},
   "outputs": [
    {
     "data": {
      "application/com.datacamp.data-table.v1+json": {
       "is_truncated": false,
       "table": {
        "data": [
         {
          "county": "State House District 8, Denali-University",
          "dem_share": 50.06,
          "dem_votes": 4995,
          "east_west": "west",
          "index": 0,
          "other_votes": 342,
          "rep_votes": 4983,
          "state": "AK",
          "total_votes": 10320
         },
         {
          "county": "State House District 37, Bristol Bay-Aleuti",
          "dem_share": 41.24,
          "dem_votes": 1868,
          "east_west": "west",
          "index": 1,
          "other_votes": 136,
          "rep_votes": 2661,
          "state": "AK",
          "total_votes": 4665
         },
         {
          "county": "State House District 12, Richardson-Glenn H",
          "dem_share": 25.93,
          "dem_votes": 1914,
          "east_west": "west",
          "index": 2,
          "other_votes": 208,
          "rep_votes": 5467,
          "state": "AK",
          "total_votes": 7589
         },
         {
          "county": "State House District 13, Greater Palmer",
          "dem_share": 24.93,
          "dem_votes": 2800,
          "east_west": "west",
          "index": 3,
          "other_votes": 294,
          "rep_votes": 8432,
          "state": "AK",
          "total_votes": 11526
         },
         {
          "county": "State House District 14, Greater Wasilla",
          "dem_share": 20.82,
          "dem_votes": 2132,
          "east_west": "west",
          "index": 4,
          "other_votes": 216,
          "rep_votes": 8108,
          "state": "AK",
          "total_votes": 10456
         },
         {
          "county": "State House District 16, Chugiak-South Mat-",
          "dem_share": 25.32,
          "dem_votes": 2636,
          "east_west": "west",
          "index": 5,
          "other_votes": 287,
          "rep_votes": 7774,
          "state": "AK",
          "total_votes": 10697
         },
         {
          "county": "State House District 15, Rural Mat-Su",
          "dem_share": 23.38,
          "dem_votes": 2510,
          "east_west": "west",
          "index": 6,
          "other_votes": 349,
          "rep_votes": 8227,
          "state": "AK",
          "total_votes": 11086
         },
         {
          "county": "State House District 39, Bering Straits",
          "dem_share": 53.71,
          "dem_votes": 2695,
          "east_west": "west",
          "index": 7,
          "other_votes": 166,
          "rep_votes": 2323,
          "state": "AK",
          "total_votes": 5184
         },
         {
          "county": "State House District 40, Arctic",
          "dem_share": 44.31,
          "dem_votes": 2137,
          "east_west": "west",
          "index": 8,
          "other_votes": 177,
          "rep_votes": 2686,
          "state": "AK",
          "total_votes": 5000
         },
         {
          "county": "State House District 2, Sitka-Wrangell-Pete",
          "dem_share": 46.26,
          "dem_votes": 3468,
          "east_west": "west",
          "index": 9,
          "other_votes": 238,
          "rep_votes": 4029,
          "state": "AK",
          "total_votes": 7735
         }
        ],
        "schema": {
         "fields": [
          {
           "name": "index",
           "type": "integer"
          },
          {
           "name": "state",
           "type": "string"
          },
          {
           "name": "county",
           "type": "string"
          },
          {
           "name": "total_votes",
           "type": "integer"
          },
          {
           "name": "dem_votes",
           "type": "integer"
          },
          {
           "name": "rep_votes",
           "type": "integer"
          },
          {
           "name": "other_votes",
           "type": "integer"
          },
          {
           "name": "dem_share",
           "type": "number"
          },
          {
           "name": "east_west",
           "type": "string"
          }
         ],
         "pandas_version": "0.20.0",
         "primaryKey": [
          "index"
         ]
        }
       }
      },
      "text/html": [
       "<div>\n",
       "<style scoped>\n",
       "    .dataframe tbody tr th:only-of-type {\n",
       "        vertical-align: middle;\n",
       "    }\n",
       "\n",
       "    .dataframe tbody tr th {\n",
       "        vertical-align: top;\n",
       "    }\n",
       "\n",
       "    .dataframe thead th {\n",
       "        text-align: right;\n",
       "    }\n",
       "</style>\n",
       "<table border=\"1\" class=\"dataframe\">\n",
       "  <thead>\n",
       "    <tr style=\"text-align: right;\">\n",
       "      <th></th>\n",
       "      <th>state</th>\n",
       "      <th>county</th>\n",
       "      <th>total_votes</th>\n",
       "      <th>dem_votes</th>\n",
       "      <th>rep_votes</th>\n",
       "      <th>other_votes</th>\n",
       "      <th>dem_share</th>\n",
       "      <th>east_west</th>\n",
       "    </tr>\n",
       "  </thead>\n",
       "  <tbody>\n",
       "    <tr>\n",
       "      <th>0</th>\n",
       "      <td>AK</td>\n",
       "      <td>State House District 8, Denali-University</td>\n",
       "      <td>10320</td>\n",
       "      <td>4995</td>\n",
       "      <td>4983</td>\n",
       "      <td>342</td>\n",
       "      <td>50.06</td>\n",
       "      <td>west</td>\n",
       "    </tr>\n",
       "    <tr>\n",
       "      <th>1</th>\n",
       "      <td>AK</td>\n",
       "      <td>State House District 37, Bristol Bay-Aleuti</td>\n",
       "      <td>4665</td>\n",
       "      <td>1868</td>\n",
       "      <td>2661</td>\n",
       "      <td>136</td>\n",
       "      <td>41.24</td>\n",
       "      <td>west</td>\n",
       "    </tr>\n",
       "    <tr>\n",
       "      <th>2</th>\n",
       "      <td>AK</td>\n",
       "      <td>State House District 12, Richardson-Glenn H</td>\n",
       "      <td>7589</td>\n",
       "      <td>1914</td>\n",
       "      <td>5467</td>\n",
       "      <td>208</td>\n",
       "      <td>25.93</td>\n",
       "      <td>west</td>\n",
       "    </tr>\n",
       "    <tr>\n",
       "      <th>3</th>\n",
       "      <td>AK</td>\n",
       "      <td>State House District 13, Greater Palmer</td>\n",
       "      <td>11526</td>\n",
       "      <td>2800</td>\n",
       "      <td>8432</td>\n",
       "      <td>294</td>\n",
       "      <td>24.93</td>\n",
       "      <td>west</td>\n",
       "    </tr>\n",
       "    <tr>\n",
       "      <th>4</th>\n",
       "      <td>AK</td>\n",
       "      <td>State House District 14, Greater Wasilla</td>\n",
       "      <td>10456</td>\n",
       "      <td>2132</td>\n",
       "      <td>8108</td>\n",
       "      <td>216</td>\n",
       "      <td>20.82</td>\n",
       "      <td>west</td>\n",
       "    </tr>\n",
       "    <tr>\n",
       "      <th>5</th>\n",
       "      <td>AK</td>\n",
       "      <td>State House District 16, Chugiak-South Mat-</td>\n",
       "      <td>10697</td>\n",
       "      <td>2636</td>\n",
       "      <td>7774</td>\n",
       "      <td>287</td>\n",
       "      <td>25.32</td>\n",
       "      <td>west</td>\n",
       "    </tr>\n",
       "    <tr>\n",
       "      <th>6</th>\n",
       "      <td>AK</td>\n",
       "      <td>State House District 15, Rural Mat-Su</td>\n",
       "      <td>11086</td>\n",
       "      <td>2510</td>\n",
       "      <td>8227</td>\n",
       "      <td>349</td>\n",
       "      <td>23.38</td>\n",
       "      <td>west</td>\n",
       "    </tr>\n",
       "    <tr>\n",
       "      <th>7</th>\n",
       "      <td>AK</td>\n",
       "      <td>State House District 39, Bering Straits</td>\n",
       "      <td>5184</td>\n",
       "      <td>2695</td>\n",
       "      <td>2323</td>\n",
       "      <td>166</td>\n",
       "      <td>53.71</td>\n",
       "      <td>west</td>\n",
       "    </tr>\n",
       "    <tr>\n",
       "      <th>8</th>\n",
       "      <td>AK</td>\n",
       "      <td>State House District 40, Arctic</td>\n",
       "      <td>5000</td>\n",
       "      <td>2137</td>\n",
       "      <td>2686</td>\n",
       "      <td>177</td>\n",
       "      <td>44.31</td>\n",
       "      <td>west</td>\n",
       "    </tr>\n",
       "    <tr>\n",
       "      <th>9</th>\n",
       "      <td>AK</td>\n",
       "      <td>State House District 2, Sitka-Wrangell-Pete</td>\n",
       "      <td>7735</td>\n",
       "      <td>3468</td>\n",
       "      <td>4029</td>\n",
       "      <td>238</td>\n",
       "      <td>46.26</td>\n",
       "      <td>west</td>\n",
       "    </tr>\n",
       "  </tbody>\n",
       "</table>\n",
       "</div>"
      ],
      "text/plain": [
       "  state                                       county  total_votes  dem_votes  \\\n",
       "0    AK    State House District 8, Denali-University        10320       4995   \n",
       "1    AK  State House District 37, Bristol Bay-Aleuti         4665       1868   \n",
       "2    AK  State House District 12, Richardson-Glenn H         7589       1914   \n",
       "3    AK      State House District 13, Greater Palmer        11526       2800   \n",
       "4    AK     State House District 14, Greater Wasilla        10456       2132   \n",
       "5    AK  State House District 16, Chugiak-South Mat-        10697       2636   \n",
       "6    AK        State House District 15, Rural Mat-Su        11086       2510   \n",
       "7    AK      State House District 39, Bering Straits         5184       2695   \n",
       "8    AK              State House District 40, Arctic         5000       2137   \n",
       "9    AK  State House District 2, Sitka-Wrangell-Pete         7735       3468   \n",
       "\n",
       "   rep_votes  other_votes  dem_share east_west  \n",
       "0       4983          342      50.06      west  \n",
       "1       2661          136      41.24      west  \n",
       "2       5467          208      25.93      west  \n",
       "3       8432          294      24.93      west  \n",
       "4       8108          216      20.82      west  \n",
       "5       7774          287      25.32      west  \n",
       "6       8227          349      23.38      west  \n",
       "7       2323          166      53.71      west  \n",
       "8       2686          177      44.31      west  \n",
       "9       4029          238      46.26      west  "
      ]
     },
     "execution_count": 3,
     "metadata": {},
     "output_type": "execute_result"
    }
   ],
   "source": [
    "# Importing course packages; you can add more too!\n",
    "import pandas as pd\n",
    "import numpy as np\n",
    "import seaborn as sns\n",
    "import matplotlib.pyplot as plt\n",
    "\n",
    "# Importing course datasets as DataFrames\n",
    "belmont = pd.read_csv('datasets/belmont.csv')\n",
    "michelson = pd.read_csv('datasets/michelson_speed_of_light.csv', index_col=0)\n",
    "all_states = pd.read_csv('datasets/2008_all_states.csv')\n",
    "swing_states = pd.read_csv('datasets/2008_swing_states.csv')\n",
    "\n",
    "# belmont.head() # Display the first five rows\n",
    "# michelson.head()\n",
    "all_states.head(10)\n",
    "# swing_states.head()"
   ]
  },
  {
   "cell_type": "markdown",
   "id": "b3317e25-17e0-4f71-89fb-18d950b5bd85",
   "metadata": {},
   "source": [
    "### Don't know where to start?\n",
    "\n",
    "Try completing these tasks:\n",
    "- Pick five states from `all_states` and create a bee swarm plot of the votes in those states. Each point should represent the share of the vote Obama got in a single country (`dem_share`), segmented by state.\n",
    "- Compute the variance and standard variance of `dem_share` for each state in `swing_states`.\n",
    "- Take 10,000 samples out of the normal distribution with the mean and standard deviation of the Belmont winners' times and plot it. This will require you to clean the `Time` column to be numeric. \n",
    "- Check the normality of the Michelson measurements, specifically velocity of light in air, by plotting the theoretical and empirical CDFs on the same plot."
   ]
  },
  {
   "cell_type": "code",
   "execution_count": 4,
   "id": "fdd6a2ca-67a2-41fe-aae3-3e97db8e3ec0",
   "metadata": {},
   "outputs": [
    {
     "name": "stdout",
     "output_type": "stream",
     "text": [
      "Mean: 41710.12559467174\n",
      "Median: 10868.0\n",
      "Mode: 1440     3\n",
      "6036     3\n",
      "2980     3\n",
      "9097     2\n",
      "2241     2\n",
      "        ..\n",
      "3431     1\n",
      "7529     1\n",
      "3435     1\n",
      "63215    1\n",
      "5453     1\n",
      "Name: total_votes, Length: 3019, dtype: int64\n"
     ]
    }
   ],
   "source": [
    "# mean \n",
    "import numpy as np\n",
    "mean = np.mean(all_states['total_votes'])\n",
    "print(\"Mean:\", mean)\n",
    "# median\n",
    "median = np.median(all_states['total_votes'])\n",
    "print(\"Median:\", median)\n",
    "# mode\n",
    "mode = all_states['total_votes'].value_counts()\n",
    "print(\"Mode:\", mode)"
   ]
  },
  {
   "cell_type": "code",
   "execution_count": 5,
   "id": "cccc5676-2ba4-45a9-a4c1-e4aed5787405",
   "metadata": {},
   "outputs": [
    {
     "name": "stdout",
     "output_type": "stream",
     "text": [
      "Variance with ddof: 14226695724.640312\n",
      "Variance with ddof: 14222183610.55067\n"
     ]
    }
   ],
   "source": [
    "# Using np.var() for variance\n",
    "var_ddof = np.var(all_states['total_votes'], ddof=1)\n",
    "print(\"Variance with ddof:\", var_ddof)\n",
    "\n",
    "# Without ddof=1 , population variance is calculated instead of sample variance:\n",
    "var_noddof = np.var(all_states['total_votes'])\n",
    "print(\"Variance with ddof:\", var_noddof)"
   ]
  },
  {
   "cell_type": "code",
   "execution_count": 6,
   "id": "6c2c703c-dc41-4d67-895f-3cab183e9092",
   "metadata": {},
   "outputs": [
    {
     "name": "stdout",
     "output_type": "stream",
     "text": [
      "Standard Deviation: 119275.71305441989\n"
     ]
    }
   ],
   "source": [
    "#standard deviation\n",
    "sd = np.std(all_states['total_votes'], ddof=1)\n",
    "print(\"Standard Deviation:\", sd)"
   ]
  },
  {
   "cell_type": "code",
   "execution_count": 7,
   "id": "b59af97a-0c6b-4289-b65a-7d3897e23b63",
   "metadata": {},
   "outputs": [
    {
     "name": "stdout",
     "output_type": "stream",
     "text": [
      "Quartile: [ 5.03 31.98 41.77 51.28 93.43]\n"
     ]
    },
    {
     "data": {
      "image/png": "[encoded data removed]",
      "text/plain": [
       "<Figure size 432x288 with 1 Axes>"
      ]
     },
     "metadata": {
      "needs_background": "light"
     },
     "output_type": "display_data"
    }
   ],
   "source": [
    "qua = np.quantile(all_states['dem_share'], [0, 0.25, 0.5, 0.75, 1])\n",
    "print(\"Quartile:\", qua)\n",
    "\n",
    "# Boxplots use quartiles\n",
    "import matplotlib.pyplot as plt\n",
    "plt.boxplot(all_states['dem_share'])\n",
    "plt.show()"
   ]
  },
  {
   "cell_type": "code",
   "execution_count": 8,
   "id": "d56460e5-55f7-431a-a39e-1ef8d21b1851",
   "metadata": {},
   "outputs": [
    {
     "name": "stdout",
     "output_type": "stream",
     "text": [
      "Interquartile Range(IQR) 23547.0\n"
     ]
    }
   ],
   "source": [
    "# Interquartile Range(IQR):\n",
    "from scipy.stats import iqr\n",
    "iqrange =iqr(all_states['total_votes'])\n",
    "print(\"Interquartile Range(IQR)\", iqrange)"
   ]
  },
  {
   "cell_type": "code",
   "execution_count": 9,
   "id": "eec14d57-0e25-4461-bb15-e15cc66e21f9",
   "metadata": {},
   "outputs": [
    {
     "data": {
      "image/png": "[encoded data removed]",
      "text/plain": [
       "<Figure size 432x288 with 1 Axes>"
      ]
     },
     "metadata": {
      "needs_background": "light"
     },
     "output_type": "display_data"
    },
    {
     "name": "stdout",
     "output_type": "stream",
     "text": [
      "Less than 74.43: 0.13263959332622155\n",
      "More than 38.62: 0.9999999999999999\n",
      "between 74.43 - 38.62: 0.1326395933262215\n"
     ]
    }
   ],
   "source": [
    "all_states['dem_share'].hist(bins=10)\n",
    "plt.show()\n",
    "\n",
    "# What percent vote Obama got in a single country(dem_share) is less than 74.43?\n",
    "from scipy.stats import norm\n",
    "less = norm.cdf(74.43, 80.0, 5)\n",
    "print(\"Less than 74.43:\", less)\n",
    "\n",
    "# What percent vote Obama got in a single country(dem_share) is more than 38.62?\n",
    "from scipy.stats import norm\n",
    "more = 1 - norm.cdf(38.62, 80.0, 5)\n",
    "print(\"More than 38.62:\", more)\n",
    "\n",
    "# What percent vote Obama got in a single country(dem_share) are 74.43 - 38.62?\n",
    "both = norm.cdf(74.43, 80.0, 5) - norm.cdf(38.62, 80.0, 5)\n",
    "print(\"between 74.43 - 38.62:\", both)"
   ]
  },
  {
   "cell_type": "code",
   "execution_count": 10,
   "id": "a2dafcff-36d6-49f4-8842-0db55b18a149",
   "metadata": {},
   "outputs": [
    {
     "name": "stdout",
     "output_type": "stream",
     "text": [
      "Mode: 46.46    6\n",
      "38.62    4\n",
      "44.65    4\n",
      "43.73    4\n",
      "51.10    4\n",
      "        ..\n",
      "25.56    1\n",
      "39.31    1\n",
      "74.43    1\n",
      "57.71    1\n",
      "42.89    1\n",
      "Name: dem_share, Length: 2363, dtype: int64\n"
     ]
    }
   ],
   "source": [
    "mode = all_states['dem_share'].value_counts()\n",
    "print(\"Mode:\", mode)"
   ]
  },
  {
   "cell_type": "code",
   "execution_count": 11,
   "id": "2ef8df57-1631-4da9-b376-a150e956ae81",
   "metadata": {},
   "outputs": [
    {
     "data": {
      "image/png": "[encoded data removed]",
      "text/plain": [
       "<Figure size 432x288 with 1 Axes>"
      ]
     },
     "metadata": {
      "needs_background": "light"
     },
     "output_type": "display_data"
    },
    {
     "name": "stdout",
     "output_type": "stream",
     "text": [
      "41.749\n"
     ]
    }
   ],
   "source": [
    "all_states['dem_share'].hist()\n",
    "plt.show()\n",
    "\n",
    "# Set seed to 104\n",
    "np.random.seed(104)\n",
    "# Sample 20 num_users with replacement from amir_deals\n",
    "samp_20 = all_states['dem_share'].sample(20, replace = True)\n",
    "\n",
    "# Take mean of samp_20\n",
    "print(np.mean(samp_20))"
   ]
  },
  {
   "cell_type": "code",
   "execution_count": 13,
   "id": "b267566c-4db9-4a8b-abe1-0f004db29913",
   "metadata": {},
   "outputs": [
    {
     "name": "stdout",
     "output_type": "stream",
     "text": [
      "[42.536500000000004, 45.39149999999999, 41.20349999999999, 48.602500000000006, 37.98950000000001, 42.324999999999996, 38.1755, 41.166, 39.3435, 40.767, 44.1155, 46.366, 43.754, 40.144, 39.24900000000001, 35.80800000000001, 51.1375, 35.090999999999994, 38.858, 39.7565, 44.167, 47.2905, 38.545, 41.832499999999996, 43.64300000000001, 44.6555, 42.172000000000004, 41.05050000000001, 38.991, 41.551, 44.338, 48.705499999999994, 44.708000000000006, 41.315000000000005, 46.177, 41.82900000000001, 44.44449999999999, 41.982499999999995, 46.07750000000001, 39.5475, 42.653000000000006, 37.74849999999999, 47.973499999999994, 39.5535, 42.776500000000006, 42.3035, 46.207, 47.75, 43.7915, 45.500499999999995, 43.4645, 41.95, 46.602500000000006, 44.74849999999999, 48.703500000000005, 39.435500000000005, 42.979000000000006, 44.237, 46.136500000000005, 42.403, 37.370999999999995, 39.4435, 37.226, 40.764, 46.37850000000001, 40.6065, 38.1995, 41.9825, 40.964999999999996, 41.566, 40.73400000000001, 37.424499999999995, 40.443999999999996, 43.454, 44.757999999999996, 45.696, 35.86450000000001, 42.914, 39.133, 38.0315, 41.86450000000001, 44.688, 49.22500000000001, 38.7955, 35.9035, 41.5195, 45.5285, 38.650499999999994, 42.8385, 38.21150000000001, 38.84750000000001, 40.083999999999996, 43.8875, 44.44, 44.838499999999996, 41.361000000000004, 43.244, 45.647499999999994, 39.994499999999995, 39.18599999999999]\n"
     ]
    }
   ],
   "source": [
    "# Repeat this 100 times using a for loop and store as sample_means. This will take 100 different samples and calculate the mean of each.\n",
    "# Set seed to 104\n",
    "np.random.seed(104)\n",
    "\n",
    "# Sample 20 num_users with replacement from amir_deals and take mean\n",
    "samp_20 = all_states['dem_share'].sample(20, replace=True)\n",
    "np.mean(samp_20)\n",
    "\n",
    "sample_means = []\n",
    "# Loop 100 times\n",
    "for i in range(100):\n",
    "    # Take sample of 20 num_users\n",
    "    samp_20 = all_states['dem_share'].sample(20, replace = True)\n",
    "    # Calculate mean of samp_20\n",
    "    samp_20_mean = np.mean(samp_20)\n",
    "    # Append samp_20_mean to sample_means\n",
    "    sample_means.append(samp_20_mean)\n",
    "  \n",
    "print(sample_means)"
   ]
  },
  {
   "cell_type": "code",
   "execution_count": 14,
   "id": "32b8c964-4371-4f50-be0b-c6e3cf7f3fc2",
   "metadata": {},
   "outputs": [
    {
     "data": {
      "image/png": "[encoded data removed]",
      "text/plain": [
       "<Figure size 432x288 with 1 Axes>"
      ]
     },
     "metadata": {
      "needs_background": "light"
     },
     "output_type": "display_data"
    }
   ],
   "source": [
    "# Convert sample_means into a pd.Series, create a histogram of the sample_means, and showing the plot.\n",
    "# Set seed to 104\n",
    "np.random.seed(104)\n",
    "\n",
    "sample_means = []\n",
    "# Loop 100 times\n",
    "for i in range(100):\n",
    "  # Take sample of 20 num_users\n",
    "  samp_20 = all_states['dem_share'].sample(20, replace=True)\n",
    "  # Calculate mean of samp_20\n",
    "  samp_20_mean = np.mean(samp_20)\n",
    "  # Append samp_20_mean to sample_means\n",
    "  sample_means.append(samp_20_mean)\n",
    "  \n",
    "# Convert to Series and plot histogram\n",
    "sample_means_series = pd.Series(sample_means)\n",
    "sample_means_series.hist()\n",
    "# Show plot\n",
    "plt.show()"
   ]
  },
  {
   "cell_type": "code",
   "execution_count": 15,
   "id": "c994e6cd-f4fd-408b-8ba9-76f057cad73b",
   "metadata": {},
   "outputs": [
    {
     "name": "stdout",
     "output_type": "stream",
     "text": [
      "Probability of 55 votes:  0.01904389862124531\n",
      "Probability competitor have 500 votes:  8.801262494551509e-15\n"
     ]
    }
   ],
   "source": [
    "# Import poisson from scipy.stats and calculate the probability that Obama gets 55 votes in each country, given that he has an average of 40 votes.\n",
    "# Import poisson from scipy.stats\n",
    "from scipy.stats import poisson\n",
    "\n",
    "# Probability of 55 votes\n",
    "prob_5 = poisson.pmf(55, 45)\n",
    "print(\"Probability of 55 votes: \",prob_5)\n",
    "\n",
    "# #Probability that Obama's competitor have an average of 350 votes. What is the probability thatthey have 500 vote ?\n",
    "# # Probability of 500 responses\n",
    "prob_competitor = poisson.pmf(500, 350)\n",
    "print(\"Probability competitor have 500 votes: \",prob_competitor)"
   ]
  },
  {
   "cell_type": "code",
   "execution_count": 16,
   "id": "d6338b8a-abb0-4773-b670-7116995d0fdc",
   "metadata": {},
   "outputs": [
    {
     "data": {
      "image/png": "[encoded data removed]",
      "text/plain": [
       "<Figure size 432x288 with 1 Axes>"
      ]
     },
     "metadata": {
      "needs_background": "light"
     },
     "output_type": "display_data"
    },
    {
     "name": "stdout",
     "output_type": "stream",
     "text": [
      "Total Votes vs Dem share: 0.2862004837881379\n",
      "Dem share vs Total Votes: 0.2862004837881379\n"
     ]
    }
   ],
   "source": [
    "# Correlation\n",
    "import seaborn as sns\n",
    "sns.scatterplot(y=\"total_votes\", x=\"dem_share\", data=all_states)\n",
    "plt.show()\n",
    "\n",
    "first = all_states['total_votes'].corr(all_states['dem_share'])\n",
    "print(\"Total Votes vs Dem share:\", first)\n",
    "\n",
    "sec = all_states['dem_share'].corr(all_states['total_votes'])\n",
    "print(\"Dem share vs Total Votes:\", sec)"
   ]
  },
  {
   "cell_type": "code",
   "execution_count": 18,
   "id": "8b73253f-e037-40cd-8fb3-1c5bd11d38d3",
   "metadata": {},
   "outputs": [
    {
     "name": "stdout",
     "output_type": "stream",
     "text": [
      "Slope: 3.3705536864531573e-05\n",
      "Interept 40.808790535847685\n"
     ]
    }
   ],
   "source": [
    "# Linear regression by least squares\n",
    "# Least squares :The process of finding the parameter for which the sum of the square is minimal\n",
    "import numpy as np\n",
    "slope, intercept = np.polyfit(all_states[\"total_votes\"], all_states['dem_share'], 1)\n",
    "print(\"Slope:\",slope)\n",
    "print(\"Interept\", intercept)"
   ]
  },
  {
   "cell_type": "code",
   "execution_count": 23,
   "id": "f836f09b-95df-426a-a846-b809ffdfc438",
   "metadata": {},
   "outputs": [
    {
     "data": {
      "application/com.datacamp.data-table.v1+json": {
       "is_truncated": false,
       "table": {
        "data": [
         {
          "B": 1.423,
          "Cor": -0.132,
          "date": "June  5",
          "difference between greatest and least": "0.17",
          "displacement of image in divisions": "114.55",
          "distinctness of image": 3,
          "index": 0,
          "position of deflected image": 114.85,
          "position of slit": 0.3,
          "radius (ft)": 28.672,
          "remarks": "Electric light.",
          "revolutions per second": "257.36",
          "temperature (F)": 76,
          "value of one turn of screw": 0.99614,
          "velocity of light in air (km/s)": 299850
         },
         {
          "B": 1.533,
          "Cor": -0.084,
          "date": "   June  7",
          "difference between greatest and least": "0.10",
          "displacement of image in divisions": "114.56",
          "distinctness of image": 2,
          "index": 1,
          "position of deflected image": 114.64,
          "position of slit": 0.074,
          "radius (ft)": 28.655,
          "remarks": "P.M. Frame inclined at various angles",
          "revolutions per second": "257.52",
          "temperature (F)": 72,
          "value of one turn of screw": 0.99614,
          "velocity of light in air (km/s)": 299740
         },
         {
          "B": 1.533,
          "Cor": -0.084,
          "date": "   June  7",
          "difference between greatest and least": "0.08",
          "displacement of image in divisions": "114.50",
          "distinctness of image": 2,
          "index": 2,
          "position of deflected image": 114.58,
          "position of slit": 0.074,
          "radius (ft)": 28.647,
          "remarks": "P.M. Frame inclined at various angles",
          "revolutions per second": "257.52",
          "temperature (F)": 72,
          "value of one turn of screw": 0.99614,
          "velocity of light in air (km/s)": 299900
         },
         {
          "B": 1.533,
          "Cor": -0.084,
          "date": "   June  7",
          "difference between greatest and least": "0.12",
          "displacement of image in divisions": " 85.84",
          "distinctness of image": 2,
          "index": 3,
          "position of deflected image": 85.91,
          "position of slit": 0.074,
          "radius (ft)": 28.647,
          "remarks": "P.M. Frame inclined at various angles",
          "revolutions per second": "193.14",
          "temperature (F)": 72,
          "value of one turn of screw": 0.99598,
          "velocity of light in air (km/s)": 300070
         },
         {
          "B": 1.533,
          "Cor": -0.084,
          "date": "   June  7",
          "difference between greatest and least": "O.07",
          "displacement of image in divisions": " 85.89",
          "distinctness of image": 2,
          "index": 4,
          "position of deflected image": 85.97,
          "position of slit": 0.074,
          "radius (ft)": 28.65,
          "remarks": "P.M. Frame inclined at various angles",
          "revolutions per second": "193.14",
          "temperature (F)": 72,
          "value of one turn of screw": 0.99598,
          "velocity of light in air (km/s)": 299930
         }
        ],
        "schema": {
         "fields": [
          {
           "name": "index",
           "type": "integer"
          },
          {
           "name": "date",
           "type": "string"
          },
          {
           "name": "distinctness of image",
           "type": "integer"
          },
          {
           "name": "temperature (F)",
           "type": "integer"
          },
          {
           "name": "position of deflected image",
           "type": "number"
          },
          {
           "name": "position of slit",
           "type": "number"
          },
          {
           "name": "displacement of image in divisions",
           "type": "string"
          },
          {
           "name": "difference between greatest and least",
           "type": "string"
          },
          {
           "name": "B",
           "type": "number"
          },
          {
           "name": "Cor",
           "type": "number"
          },
          {
           "name": "revolutions per second",
           "type": "string"
          },
          {
           "name": "radius (ft)",
           "type": "number"
          },
          {
           "name": "value of one turn of screw",
           "type": "number"
          },
          {
           "name": "velocity of light in air (km/s)",
           "type": "integer"
          },
          {
           "name": "remarks",
           "type": "string"
          }
         ],
         "pandas_version": "0.20.0",
         "primaryKey": [
          "index"
         ]
        }
       }
      },
      "text/html": [
       "<div>\n",
       "<style scoped>\n",
       "    .dataframe tbody tr th:only-of-type {\n",
       "        vertical-align: middle;\n",
       "    }\n",
       "\n",
       "    .dataframe tbody tr th {\n",
       "        vertical-align: top;\n",
       "    }\n",
       "\n",
       "    .dataframe thead th {\n",
       "        text-align: right;\n",
       "    }\n",
       "</style>\n",
       "<table border=\"1\" class=\"dataframe\">\n",
       "  <thead>\n",
       "    <tr style=\"text-align: right;\">\n",
       "      <th></th>\n",
       "      <th>date</th>\n",
       "      <th>distinctness of image</th>\n",
       "      <th>temperature (F)</th>\n",
       "      <th>position of deflected image</th>\n",
       "      <th>position of slit</th>\n",
       "      <th>displacement of image in divisions</th>\n",
       "      <th>difference between greatest and least</th>\n",
       "      <th>B</th>\n",
       "      <th>Cor</th>\n",
       "      <th>revolutions per second</th>\n",
       "      <th>radius (ft)</th>\n",
       "      <th>value of one turn of screw</th>\n",
       "      <th>velocity of light in air (km/s)</th>\n",
       "      <th>remarks</th>\n",
       "    </tr>\n",
       "  </thead>\n",
       "  <tbody>\n",
       "    <tr>\n",
       "      <th>0</th>\n",
       "      <td>June  5</td>\n",
       "      <td>3</td>\n",
       "      <td>76</td>\n",
       "      <td>114.85</td>\n",
       "      <td>0.300</td>\n",
       "      <td>114.55</td>\n",
       "      <td>0.17</td>\n",
       "      <td>1.423</td>\n",
       "      <td>-0.132</td>\n",
       "      <td>257.36</td>\n",
       "      <td>28.672</td>\n",
       "      <td>0.99614</td>\n",
       "      <td>299850</td>\n",
       "      <td>Electric light.</td>\n",
       "    </tr>\n",
       "    <tr>\n",
       "      <th>1</th>\n",
       "      <td>June  7</td>\n",
       "      <td>2</td>\n",
       "      <td>72</td>\n",
       "      <td>114.64</td>\n",
       "      <td>0.074</td>\n",
       "      <td>114.56</td>\n",
       "      <td>0.10</td>\n",
       "      <td>1.533</td>\n",
       "      <td>-0.084</td>\n",
       "      <td>257.52</td>\n",
       "      <td>28.655</td>\n",
       "      <td>0.99614</td>\n",
       "      <td>299740</td>\n",
       "      <td>P.M. Frame inclined at various angles</td>\n",
       "    </tr>\n",
       "    <tr>\n",
       "      <th>2</th>\n",
       "      <td>June  7</td>\n",
       "      <td>2</td>\n",
       "      <td>72</td>\n",
       "      <td>114.58</td>\n",
       "      <td>0.074</td>\n",
       "      <td>114.50</td>\n",
       "      <td>0.08</td>\n",
       "      <td>1.533</td>\n",
       "      <td>-0.084</td>\n",
       "      <td>257.52</td>\n",
       "      <td>28.647</td>\n",
       "      <td>0.99614</td>\n",
       "      <td>299900</td>\n",
       "      <td>P.M. Frame inclined at various angles</td>\n",
       "    </tr>\n",
       "    <tr>\n",
       "      <th>3</th>\n",
       "      <td>June  7</td>\n",
       "      <td>2</td>\n",
       "      <td>72</td>\n",
       "      <td>85.91</td>\n",
       "      <td>0.074</td>\n",
       "      <td>85.84</td>\n",
       "      <td>0.12</td>\n",
       "      <td>1.533</td>\n",
       "      <td>-0.084</td>\n",
       "      <td>193.14</td>\n",
       "      <td>28.647</td>\n",
       "      <td>0.99598</td>\n",
       "      <td>300070</td>\n",
       "      <td>P.M. Frame inclined at various angles</td>\n",
       "    </tr>\n",
       "    <tr>\n",
       "      <th>4</th>\n",
       "      <td>June  7</td>\n",
       "      <td>2</td>\n",
       "      <td>72</td>\n",
       "      <td>85.97</td>\n",
       "      <td>0.074</td>\n",
       "      <td>85.89</td>\n",
       "      <td>O.07</td>\n",
       "      <td>1.533</td>\n",
       "      <td>-0.084</td>\n",
       "      <td>193.14</td>\n",
       "      <td>28.650</td>\n",
       "      <td>0.99598</td>\n",
       "      <td>299930</td>\n",
       "      <td>P.M. Frame inclined at various angles</td>\n",
       "    </tr>\n",
       "  </tbody>\n",
       "</table>\n",
       "</div>"
      ],
      "text/plain": [
       "         date  distinctness of image  temperature (F)  \\\n",
       "0     June  5                      3               76   \n",
       "1     June  7                      2               72   \n",
       "2     June  7                      2               72   \n",
       "3     June  7                      2               72   \n",
       "4     June  7                      2               72   \n",
       "\n",
       "   position of deflected image  position of slit  \\\n",
       "0                       114.85             0.300   \n",
       "1                       114.64             0.074   \n",
       "2                       114.58             0.074   \n",
       "3                        85.91             0.074   \n",
       "4                        85.97             0.074   \n",
       "\n",
       "  displacement of image in divisions difference between greatest and least  \\\n",
       "0                             114.55                                  0.17   \n",
       "1                             114.56                                  0.10   \n",
       "2                             114.50                                  0.08   \n",
       "3                              85.84                                  0.12   \n",
       "4                              85.89                                  O.07   \n",
       "\n",
       "       B    Cor revolutions per second  radius (ft)  \\\n",
       "0  1.423 -0.132                 257.36       28.672   \n",
       "1  1.533 -0.084                 257.52       28.655   \n",
       "2  1.533 -0.084                 257.52       28.647   \n",
       "3  1.533 -0.084                 193.14       28.647   \n",
       "4  1.533 -0.084                 193.14       28.650   \n",
       "\n",
       "   value of one turn of screw  velocity of light in air (km/s)  \\\n",
       "0                     0.99614                           299850   \n",
       "1                     0.99614                           299740   \n",
       "2                     0.99614                           299900   \n",
       "3                     0.99598                           300070   \n",
       "4                     0.99598                           299930   \n",
       "\n",
       "                                 remarks  \n",
       "0                        Electric light.  \n",
       "1  P.M. Frame inclined at various angles  \n",
       "2  P.M. Frame inclined at various angles  \n",
       "3  P.M. Frame inclined at various angles  \n",
       "4  P.M. Frame inclined at various angles  "
      ]
     },
     "execution_count": 23,
     "metadata": {},
     "output_type": "execute_result"
    }
   ],
   "source": [
    "michelson = pd.read_csv('datasets/michelson_speed_of_light.csv', index_col=0)\n",
    "michelson.head()"
   ]
  },
  {
   "cell_type": "code",
   "execution_count": 25,
   "id": "e01984b8-2177-4d67-94d3-e017a57b0816",
   "metadata": {},
   "outputs": [
    {
     "data": {
      "text/plain": [
       "8.0"
      ]
     },
     "execution_count": 25,
     "metadata": {},
     "output_type": "execute_result"
    }
   ],
   "source": [
    "newcomb_value = 299860 # km/s\n",
    "michelson_speed_of_light = 299852 # km/s\n",
    "michelson_shifted = michelson_speed_of_light\n",
    "- np.mean(michelson_speed_of_light) + newcomb_value"
   ]
  },
  {
   "cell_type": "code",
   "execution_count": 27,
   "id": "4568c9bd-73cf-41f9-a9ac-44701e575347",
   "metadata": {},
   "outputs": [
    {
     "data": {
      "text/plain": [
       "-8.0"
      ]
     },
     "execution_count": 27,
     "metadata": {},
     "output_type": "execute_result"
    }
   ],
   "source": [
    "def diff_from_newcomb(data, newcomb_value=299860):\n",
    "    return np.mean(data) - newcomb_value\n",
    "diff_obs = diff_from_newcomb(michelson_speed_of_light)\n",
    "diff_obs\n"
   ]
  },
  {
   "cell_type": "code",
   "execution_count": 28,
   "id": "0ce83a83-0128-44c7-b3ea-5797fb71071e",
   "metadata": {},
   "outputs": [
    {
     "ename": "NameError",
     "evalue": "name 'draw_bs_reps' is not defined",
     "output_type": "error",
     "traceback": [
      "\u001b[0;31m---------------------------------------------------------------------------\u001b[0m",
      "\u001b[0;31mNameError\u001b[0m                                 Traceback (most recent call last)",
      "\u001b[0;32m/tmp/ipykernel_223/894786598.py\u001b[0m in \u001b[0;36m<module>\u001b[0;34m\u001b[0m\n\u001b[0;32m----> 1\u001b[0;31m bs_replicates = draw_bs_reps(michelson_shifted,\n\u001b[0m\u001b[1;32m      2\u001b[0m diff_from_newcomb, 10000)\n\u001b[1;32m      3\u001b[0m \u001b[0mp_value\u001b[0m \u001b[0;34m=\u001b[0m \u001b[0mnp\u001b[0m\u001b[0;34m.\u001b[0m\u001b[0msum\u001b[0m\u001b[0;34m(\u001b[0m\u001b[0mbs_replicates\u001b[0m \u001b[0;34m<=\u001b[0m \u001b[0mdiff_observed\u001b[0m\u001b[0;34m)\u001b[0m \u001b[0;34m/\u001b[0m \u001b[0;36m10000\u001b[0m\u001b[0;34m\u001b[0m\u001b[0;34m\u001b[0m\u001b[0m\n\u001b[1;32m      4\u001b[0m \u001b[0mp_value\u001b[0m\u001b[0;34m\u001b[0m\u001b[0;34m\u001b[0m\u001b[0m\n",
      "\u001b[0;31mNameError\u001b[0m: name 'draw_bs_reps' is not defined"
     ]
    }
   ],
   "source": [
    "bs_replicates = draw_bs_reps(michelson_shifted, diff_from_newcomb, 10000)\n",
    "p_value = np.sum(bs_replicates <= diff_observed) / 10000\n",
    "p_value"
   ]
  },
  {
   "cell_type": "code",
   "execution_count": null,
   "id": "6e037f47-a1c0-47e5-9677-729386de4b00",
   "metadata": {},
   "outputs": [],
   "source": []
  }
 ],
 "metadata": {
  "colab": {
   "name": "Welcome to DataCamp Workspaces.ipynb",
   "provenance": []
  },
  "kernelspec": {
   "display_name": "Python 3 (ipykernel)",
   "language": "python",
   "name": "python3"
  },
  "language_info": {
   "codemirror_mode": {
    "name": "ipython",
    "version": 3
   },
   "file_extension": ".py",
   "mimetype": "text/x-python",
   "name": "python",
   "nbconvert_exporter": "python",
   "pygments_lexer": "ipython3",
   "version": "3.8.10"
  }
 },
 "nbformat": 4,
 "nbformat_minor": 5
}
