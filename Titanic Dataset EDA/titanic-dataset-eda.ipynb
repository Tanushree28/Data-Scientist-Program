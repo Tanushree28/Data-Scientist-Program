{
 "metadata": {
  "kernelspec": {
   "language": "python",
   "display_name": "Python 3",
   "name": "python3"
  },
  "language_info": {
   "name": "python",
   "version": "3.7.12",
   "mimetype": "text/x-python",
   "codemirror_mode": {
    "name": "ipython",
    "version": 3
   },
   "pygments_lexer": "ipython3",
   "nbconvert_exporter": "python",
   "file_extension": ".py"
  }
 },
 "nbformat_minor": 4,
 "nbformat": 4,
 "cells": [
  {
   "cell_type": "markdown",
   "source": [
    "# **Exploratory Data Analysis of Titanic Dataset**"
   ],
   "metadata": {}
  },
  {
   "cell_type": "markdown",
   "source": [
    "# **Importing Libraries**"
   ],
   "metadata": {}
  },
  {
   "cell_type": "code",
   "source": [
    "# This Python 3 environment comes with many helpful analytics libraries installed\n",
    "# It is defined by the kaggle/python Docker image: https://github.com/kaggle/docker-python\n",
    "# For example, here's several helpful packages to load\n",
    "\n",
    "import numpy as np # linear algebra\n",
    "import pandas as pd # data processing, CSV file I/O (e.g. pd.read_csv)\n",
    "import seaborn as sns\n",
    "import matplotlib.pyplot as plt\n",
    "\n",
    "# Input data files are available in the read-only \"../input/\" directory\n",
    "# For example, running this (by clicking run or pressing Shift+Enter) will list all files under the input directory\n",
    "\n",
    "import os\n",
    "for dirname, _, filenames in os.walk('/kaggle/input'):\n",
    "    for filename in filenames:\n",
    "        print(os.path.join(dirname, filename))\n",
    "\n",
    "# You can write up to 20GB to the current directory (/kaggle/working/) that gets preserved as output when you create a version using \"Save & Run All\" \n",
    "# You can also write temporary files to /kaggle/temp/, but they won't be saved outside of the current session"
   ],
   "metadata": {
    "_uuid": "8f2839f25d086af736a60e9eeb907d3b93b6e0e5",
    "_cell_guid": "b1076dfc-b9ad-4769-8c92-a6c4dae69d19",
    "execution": {
     "iopub.status.busy": "2021-12-09T12:14:14.761404Z",
     "iopub.execute_input": "2021-12-09T12:14:14.761697Z",
     "iopub.status.idle": "2021-12-09T12:14:14.771424Z",
     "shell.execute_reply.started": "2021-12-09T12:14:14.761664Z",
     "shell.execute_reply": "2021-12-09T12:14:14.770485Z"
    },
    "trusted": true
   },
   "execution_count": 1,
   "outputs": [
    {
     "ename": "ModuleNotFoundError",
     "evalue": "No module named 'numpy'",
     "output_type": "error",
     "traceback": [
      "\u001B[1;31m---------------------------------------------------------------------------\u001B[0m",
      "\u001B[1;31mModuleNotFoundError\u001B[0m                       Traceback (most recent call last)",
      "\u001B[1;32m~\\AppData\\Local\\Temp/ipykernel_3328/1630988220.py\u001B[0m in \u001B[0;36m<module>\u001B[1;34m\u001B[0m\n\u001B[0;32m      3\u001B[0m \u001B[1;31m# For example, here's several helpful packages to load\u001B[0m\u001B[1;33m\u001B[0m\u001B[1;33m\u001B[0m\u001B[1;33m\u001B[0m\u001B[0m\n\u001B[0;32m      4\u001B[0m \u001B[1;33m\u001B[0m\u001B[0m\n\u001B[1;32m----> 5\u001B[1;33m \u001B[1;32mimport\u001B[0m \u001B[0mnumpy\u001B[0m \u001B[1;32mas\u001B[0m \u001B[0mnp\u001B[0m \u001B[1;31m# linear algebra\u001B[0m\u001B[1;33m\u001B[0m\u001B[1;33m\u001B[0m\u001B[0m\n\u001B[0m\u001B[0;32m      6\u001B[0m \u001B[1;32mimport\u001B[0m \u001B[0mpandas\u001B[0m \u001B[1;32mas\u001B[0m \u001B[0mpd\u001B[0m \u001B[1;31m# data processing, CSV file I/O (e.g. pd.read_csv)\u001B[0m\u001B[1;33m\u001B[0m\u001B[1;33m\u001B[0m\u001B[0m\n\u001B[0;32m      7\u001B[0m \u001B[1;32mimport\u001B[0m \u001B[0mseaborn\u001B[0m \u001B[1;32mas\u001B[0m \u001B[0msns\u001B[0m\u001B[1;33m\u001B[0m\u001B[1;33m\u001B[0m\u001B[0m\n",
      "\u001B[1;31mModuleNotFoundError\u001B[0m: No module named 'numpy'"
     ]
    }
   ]
  },
  {
   "cell_type": "code",
   "source": [
    "#Importing the dataset using pandas read_csv\n",
    "df= pd.read_csv('train.csv')"
   ],
   "metadata": {
    "execution": {
     "iopub.status.busy": "2021-12-09T12:14:14.773236Z",
     "iopub.execute_input": "2021-12-09T12:14:14.774092Z",
     "iopub.status.idle": "2021-12-09T12:14:14.786922Z",
     "shell.execute_reply.started": "2021-12-09T12:14:14.774046Z",
     "shell.execute_reply": "2021-12-09T12:14:14.786227Z"
    },
    "trusted": true
   },
   "execution_count": 71,
   "outputs": []
  },
  {
   "cell_type": "code",
   "source": "df.head()",
   "metadata": {
    "execution": {
     "iopub.status.busy": "2021-12-09T12:14:14.787920Z",
     "iopub.execute_input": "2021-12-09T12:14:14.788482Z",
     "iopub.status.idle": "2021-12-09T12:14:14.804055Z",
     "shell.execute_reply.started": "2021-12-09T12:14:14.788437Z",
     "shell.execute_reply": "2021-12-09T12:14:14.803503Z"
    },
    "trusted": true
   },
   "execution_count": 72,
   "outputs": []
  },
  {
   "cell_type": "markdown",
   "source": "# **Data Cleaning**",
   "metadata": {}
  },
  {
   "cell_type": "code",
   "source": "df.describe()",
   "metadata": {
    "execution": {
     "iopub.status.busy": "2021-12-09T12:14:14.805202Z",
     "iopub.execute_input": "2021-12-09T12:14:14.805471Z",
     "iopub.status.idle": "2021-12-09T12:14:14.834233Z",
     "shell.execute_reply.started": "2021-12-09T12:14:14.805441Z",
     "shell.execute_reply": "2021-12-09T12:14:14.833433Z"
    },
    "trusted": true
   },
   "execution_count": 73,
   "outputs": []
  },
  {
   "cell_type": "code",
   "source": "df.info()",
   "metadata": {
    "execution": {
     "iopub.status.busy": "2021-12-09T12:14:14.836220Z",
     "iopub.execute_input": "2021-12-09T12:14:14.836478Z",
     "iopub.status.idle": "2021-12-09T12:14:14.848861Z",
     "shell.execute_reply.started": "2021-12-09T12:14:14.836448Z",
     "shell.execute_reply": "2021-12-09T12:14:14.847959Z"
    },
    "trusted": true
   },
   "execution_count": 74,
   "outputs": []
  },
  {
   "cell_type": "code",
   "source": "# Check number of null values in a column\ndf.isnull().sum()",
   "metadata": {
    "execution": {
     "iopub.status.busy": "2021-12-09T12:14:14.850170Z",
     "iopub.execute_input": "2021-12-09T12:14:14.850588Z",
     "iopub.status.idle": "2021-12-09T12:14:14.859418Z",
     "shell.execute_reply.started": "2021-12-09T12:14:14.850545Z",
     "shell.execute_reply": "2021-12-09T12:14:14.858667Z"
    },
    "trusted": true
   },
   "execution_count": 75,
   "outputs": []
  },
  {
   "cell_type": "code",
   "source": "#dropping column not in use and having maximum number of null values i.e. Cabin column\ndf_cleaned = df.drop(['PassengerId', 'Name', 'Ticket', 'Cabin'], axis=1)\ndf_cleaned.head()",
   "metadata": {
    "execution": {
     "iopub.status.busy": "2021-12-09T12:14:14.860892Z",
     "iopub.execute_input": "2021-12-09T12:14:14.861105Z",
     "iopub.status.idle": "2021-12-09T12:14:14.878505Z",
     "shell.execute_reply.started": "2021-12-09T12:14:14.861078Z",
     "shell.execute_reply": "2021-12-09T12:14:14.877643Z"
    },
    "trusted": true
   },
   "execution_count": 76,
   "outputs": []
  },
  {
   "cell_type": "code",
   "source": "df_cleaned.describe()",
   "metadata": {
    "execution": {
     "iopub.status.busy": "2021-12-09T12:14:14.879808Z",
     "iopub.execute_input": "2021-12-09T12:14:14.880682Z",
     "iopub.status.idle": "2021-12-09T12:14:14.911324Z",
     "shell.execute_reply.started": "2021-12-09T12:14:14.880602Z",
     "shell.execute_reply": "2021-12-09T12:14:14.910667Z"
    },
    "trusted": true
   },
   "execution_count": 77,
   "outputs": []
  },
  {
   "cell_type": "code",
   "source": "df_cleaned.isnull().sum()",
   "metadata": {
    "execution": {
     "iopub.status.busy": "2021-12-09T12:14:14.912208Z",
     "iopub.execute_input": "2021-12-09T12:14:14.912755Z",
     "iopub.status.idle": "2021-12-09T12:14:14.921139Z",
     "shell.execute_reply.started": "2021-12-09T12:14:14.912721Z",
     "shell.execute_reply": "2021-12-09T12:14:14.920342Z"
    },
    "trusted": true
   },
   "execution_count": 78,
   "outputs": []
  },
  {
   "cell_type": "markdown",
   "source": "# **Data Visualtization**",
   "metadata": {}
  },
  {
   "cell_type": "markdown",
   "source": "# For Survival Number",
   "metadata": {}
  },
  {
   "cell_type": "code",
   "source": "# Group the data frame by values in Survived column, and count the number of occurrences of each group.\nsurvived_count = df.groupby('Survived')['Survived'].count()\nsurvived_count",
   "metadata": {
    "execution": {
     "iopub.status.busy": "2021-12-09T12:14:14.922431Z",
     "iopub.execute_input": "2021-12-09T12:14:14.923241Z",
     "iopub.status.idle": "2021-12-09T12:14:14.938241Z",
     "shell.execute_reply.started": "2021-12-09T12:14:14.923190Z",
     "shell.execute_reply": "2021-12-09T12:14:14.937196Z"
    },
    "trusted": true
   },
   "execution_count": 79,
   "outputs": []
  },
  {
   "cell_type": "code",
   "source": "# Grouped by survival\nplt.figure(figsize=(4,5))\nplt.bar(survived_count.index, survived_count.values)\nplt.title('Grouped by survival')\nplt.xticks([0,1],['Not survived', 'Survived'])\nfor i, value in enumerate(survived_count.values):\n    plt.text(i, value-70, str(value), fontsize=12, color='white',\n             horizontalalignment='center', verticalalignment='center')\nplt.show()",
   "metadata": {
    "execution": {
     "iopub.status.busy": "2021-12-09T12:14:14.939636Z",
     "iopub.execute_input": "2021-12-09T12:14:14.940370Z",
     "iopub.status.idle": "2021-12-09T12:14:15.100694Z",
     "shell.execute_reply.started": "2021-12-09T12:14:14.940325Z",
     "shell.execute_reply": "2021-12-09T12:14:15.099931Z"
    },
    "trusted": true
   },
   "execution_count": 80,
   "outputs": []
  },
  {
   "cell_type": "markdown",
   "source": "# For Ticket Class(Pclass)",
   "metadata": {}
  },
  {
   "cell_type": "code",
   "source": "# Group the data frame by classes in the pclass column, and count the number of occurrences of each group.\npclass_count = df.groupby('Pclass')['Pclass'].count()\npclass_count",
   "metadata": {
    "execution": {
     "iopub.status.busy": "2021-12-09T12:14:15.102716Z",
     "iopub.execute_input": "2021-12-09T12:14:15.102939Z",
     "iopub.status.idle": "2021-12-09T12:14:15.111800Z",
     "shell.execute_reply.started": "2021-12-09T12:14:15.102912Z",
     "shell.execute_reply": "2021-12-09T12:14:15.111259Z"
    },
    "trusted": true
   },
   "execution_count": 81,
   "outputs": []
  },
  {
   "cell_type": "code",
   "source": "plt.figure(figsize=(7,7))\nplt.title('Grouped by pclass')\nplt.pie(pclass_count.values, labels=['Class 1', 'Class 2', 'Class 3'], \n autopct='%1.1f%%', textprops={'fontsize':13})\nplt.show()",
   "metadata": {
    "execution": {
     "iopub.status.busy": "2021-12-09T12:14:15.112896Z",
     "iopub.execute_input": "2021-12-09T12:14:15.113255Z",
     "iopub.status.idle": "2021-12-09T12:14:15.208537Z",
     "shell.execute_reply.started": "2021-12-09T12:14:15.113208Z",
     "shell.execute_reply": "2021-12-09T12:14:15.207745Z"
    },
    "trusted": true
   },
   "execution_count": 82,
   "outputs": []
  },
  {
   "cell_type": "markdown",
   "source": "# For Gender",
   "metadata": {}
  },
  {
   "cell_type": "code",
   "source": "# Group the data frame by classes in the pclass column, and count the number of occurrences of each group.\nsex_count = df.groupby('Sex')['Sex'].count()\nsex_count",
   "metadata": {
    "execution": {
     "iopub.status.busy": "2021-12-09T12:14:15.209788Z",
     "iopub.execute_input": "2021-12-09T12:14:15.210012Z",
     "iopub.status.idle": "2021-12-09T12:14:15.218516Z",
     "shell.execute_reply.started": "2021-12-09T12:14:15.209983Z",
     "shell.execute_reply": "2021-12-09T12:14:15.217486Z"
    },
    "trusted": true
   },
   "execution_count": 83,
   "outputs": []
  },
  {
   "cell_type": "code",
   "source": "plt.figure(figsize=(7,7))\nplt.title('Grouped by gender')\nplt.pie(sex_count.values, labels=['male', 'female'], \n autopct='%1.1f%%', textprops={'fontsize':13})\nplt.show()",
   "metadata": {
    "execution": {
     "iopub.status.busy": "2021-12-09T12:14:15.219663Z",
     "iopub.execute_input": "2021-12-09T12:14:15.220029Z",
     "iopub.status.idle": "2021-12-09T12:14:15.304318Z",
     "shell.execute_reply.started": "2021-12-09T12:14:15.219987Z",
     "shell.execute_reply": "2021-12-09T12:14:15.303697Z"
    },
    "trusted": true
   },
   "execution_count": 84,
   "outputs": []
  },
  {
   "cell_type": "markdown",
   "source": "# For Port of Embarkation",
   "metadata": {}
  },
  {
   "cell_type": "code",
   "source": "# Group the data frame by classes in the pclass column, and count the number of occurrences of each group.\nembark_count = df.groupby('Embarked')['Embarked'].count()\nembark_count",
   "metadata": {
    "execution": {
     "iopub.status.busy": "2021-12-09T12:14:15.305499Z",
     "iopub.execute_input": "2021-12-09T12:14:15.305868Z",
     "iopub.status.idle": "2021-12-09T12:14:15.313881Z",
     "shell.execute_reply.started": "2021-12-09T12:14:15.305825Z",
     "shell.execute_reply": "2021-12-09T12:14:15.313072Z"
    },
    "trusted": true
   },
   "execution_count": 85,
   "outputs": []
  },
  {
   "cell_type": "code",
   "source": "plt.figure(figsize=(7,7))\nplt.title('Grouped by embarkation')\nplt.pie(embark_count.values, labels=['Cherbourg', 'Queenstown', 'Southampton'], \n        autopct='%1.1f%%', textprops={'fontsize':13})\nplt.show()",
   "metadata": {
    "execution": {
     "iopub.status.busy": "2021-12-09T12:14:15.315293Z",
     "iopub.execute_input": "2021-12-09T12:14:15.315689Z",
     "iopub.status.idle": "2021-12-09T12:14:15.412923Z",
     "shell.execute_reply.started": "2021-12-09T12:14:15.315643Z",
     "shell.execute_reply": "2021-12-09T12:14:15.412098Z"
    },
    "trusted": true
   },
   "execution_count": 86,
   "outputs": []
  },
  {
   "cell_type": "markdown",
   "source": "# Now visulatizing the impact of one comlumn in the other columns\n1. How Survival is correlated to other attributes of the dataset ? Findout Pearson’s r.\n2. Did Sex play a role in Survival ?\n3. Did class played role in survival ?\n4. How Embarkation varied across different ports ?",
   "metadata": {}
  },
  {
   "cell_type": "markdown",
   "source": "# How Survival is correlated to other attributes of the dataset ? Findout Pearson’s r.",
   "metadata": {}
  },
  {
   "cell_type": "code",
   "source": "df_cleaned.corr(method='pearson')",
   "metadata": {
    "execution": {
     "iopub.status.busy": "2021-12-09T12:14:15.414082Z",
     "iopub.execute_input": "2021-12-09T12:14:15.414477Z",
     "iopub.status.idle": "2021-12-09T12:14:15.428051Z",
     "shell.execute_reply.started": "2021-12-09T12:14:15.414438Z",
     "shell.execute_reply": "2021-12-09T12:14:15.427181Z"
    },
    "trusted": true
   },
   "execution_count": 87,
   "outputs": []
  },
  {
   "cell_type": "markdown",
   "source": "# Did Sex play a role in Survival ?",
   "metadata": {}
  },
  {
   "cell_type": "code",
   "source": "#Survivial number according to gender or sex i.e. Male and Female\nsurvived_sex = df.groupby('Sex')['Survived'].sum()\nplt.figure(figsize=(4,5))\nplt.bar(survived_sex.index, survived_sex.values)\nplt.title('Survived female and male')\nfor i, value in enumerate(survived_sex.values):\n    plt.text(i, value-20, str(value), fontsize=12, color='white',\n             horizontalalignment='center', verticalalignment='center')\nplt.show()",
   "metadata": {
    "execution": {
     "iopub.status.busy": "2021-12-09T12:14:15.429177Z",
     "iopub.execute_input": "2021-12-09T12:14:15.429533Z",
     "iopub.status.idle": "2021-12-09T12:14:15.582054Z",
     "shell.execute_reply.started": "2021-12-09T12:14:15.429493Z",
     "shell.execute_reply": "2021-12-09T12:14:15.581318Z"
    },
    "trusted": true
   },
   "execution_count": 88,
   "outputs": []
  },
  {
   "cell_type": "markdown",
   "source": "# Did class played role in survival ?",
   "metadata": {}
  },
  {
   "cell_type": "code",
   "source": "#sns.plt.hist(df_cleaned.groupby(['Pclass', 'Survived', 'Sex']).size())\ngrouped_by_pclass = df_cleaned.groupby(['Pclass', 'Survived', 'Sex'])\ngrouped_by_pclass.size()",
   "metadata": {
    "execution": {
     "iopub.status.busy": "2021-12-09T12:21:00.795813Z",
     "iopub.execute_input": "2021-12-09T12:21:00.796106Z",
     "iopub.status.idle": "2021-12-09T12:21:00.807952Z",
     "shell.execute_reply.started": "2021-12-09T12:21:00.796072Z",
     "shell.execute_reply": "2021-12-09T12:21:00.806962Z"
    },
    "trusted": true
   },
   "execution_count": 89,
   "outputs": []
  },
  {
   "cell_type": "code",
   "source": "df_cleaned.groupby(['Pclass'])['Survived'].sum()/df_cleaned.groupby(['Pclass'])['Survived'].count()*100",
   "metadata": {
    "execution": {
     "iopub.status.busy": "2021-12-09T12:22:09.404480Z",
     "iopub.execute_input": "2021-12-09T12:22:09.404778Z",
     "iopub.status.idle": "2021-12-09T12:22:09.415062Z",
     "shell.execute_reply.started": "2021-12-09T12:22:09.404746Z",
     "shell.execute_reply": "2021-12-09T12:22:09.414508Z"
    },
    "trusted": true
   },
   "execution_count": 90,
   "outputs": []
  },
  {
   "cell_type": "code",
   "source": "sns.factorplot('Survived', col='Pclass', hue='Sex', data=df_cleaned, kind='count', size=7, aspect=.8)\nplt.subplots_adjust(top=0.9)\nsns.plt.suptitle('Class and gender wise segregation of passengers', fontsize=16)\n",
   "metadata": {
    "execution": {
     "iopub.status.busy": "2021-12-09T12:57:15.053465Z",
     "iopub.execute_input": "2021-12-09T12:57:15.053755Z",
     "iopub.status.idle": "2021-12-09T12:57:15.740536Z",
     "shell.execute_reply.started": "2021-12-09T12:57:15.053718Z",
     "shell.execute_reply": "2021-12-09T12:57:15.739401Z"
    },
    "trusted": true
   },
   "execution_count": 130,
   "outputs": []
  },
  {
   "cell_type": "markdown",
   "source": "# How Embarkation varied across different ports ?",
   "metadata": {}
  },
  {
   "cell_type": "code",
   "source": "sns.lmplot('Age', 'Fare', data=df_cleaned, fit_reg=False, hue=\"Pclass\", col=\"Embarked\", scatter_kws={\"marker\": \".\", \"s\": 20})\nplt.subplots_adjust(top=0.9)\nsns.plt.suptitle('Scatterplot of passengers w.r.t Fare and Age for diff. ports', fontsize=16)",
   "metadata": {
    "execution": {
     "iopub.status.busy": "2021-12-09T13:06:15.108293Z",
     "iopub.execute_input": "2021-12-09T13:06:15.108596Z",
     "iopub.status.idle": "2021-12-09T13:06:16.296261Z",
     "shell.execute_reply.started": "2021-12-09T13:06:15.108559Z",
     "shell.execute_reply": "2021-12-09T13:06:16.295096Z"
    },
    "trusted": true
   },
   "execution_count": 133,
   "outputs": []
  }
 ]
}