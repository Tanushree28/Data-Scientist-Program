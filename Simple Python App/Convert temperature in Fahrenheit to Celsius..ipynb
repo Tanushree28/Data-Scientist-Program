{
 "cells": [
  {
   "cell_type": "markdown",
   "id": "8001317c",
   "metadata": {},
   "source": [
    "# Convert temperature in Fahrenheit to Celsius"
   ]
  },
  {
   "cell_type": "code",
   "execution_count": 6,
   "id": "3066aaa2",
   "metadata": {},
   "outputs": [
    {
     "name": "stdout",
     "output_type": "stream",
     "text": [
      "Enter value in Fahrenheit 74.0\n",
      "74.0 degree Fahrenheit is equivalent to 23.3 degree Celsius\n"
     ]
    }
   ],
   "source": [
    "# Python program to convert Fahrenheit to Celsius\n",
    "\n",
    "#Taking input\n",
    "fahr = float(input(\"Enter value in Fahrenheit \"))\n",
    "\n",
    "#Conveting it to Celsicus\n",
    "cel = (fahr-32) / 1.8\n",
    "\n",
    "# display result\n",
    "print('%0.1f degree Fahrenheit is equivalent to %0.1f degree Celsius' %(fahr, cel))"
   ]
  },
  {
   "cell_type": "code",
   "execution_count": null,
   "id": "c7742c22",
   "metadata": {},
   "outputs": [],
   "source": []
  }
 ],
 "metadata": {
  "kernelspec": {
   "display_name": "Python 3",
   "language": "python",
   "name": "python3"
  },
  "language_info": {
   "codemirror_mode": {
    "name": "ipython",
    "version": 3
   },
   "file_extension": ".py",
   "mimetype": "text/x-python",
   "name": "python",
   "nbconvert_exporter": "python",
   "pygments_lexer": "ipython3",
   "version": "3.9.5"
  }
 },
 "nbformat": 4,
 "nbformat_minor": 5
}
