{
 "cells": [
  {
   "cell_type": "code",
   "execution_count": null,
   "id": "ef7abaa0",
   "metadata": {},
   "outputs": [],
   "source": [
    "# fruit= ('apple', 'banana','mango')\n",
    "# # print(len(fruit))"
   ]
  },
  {
   "cell_type": "code",
   "execution_count": null,
   "id": "7d87e71d",
   "metadata": {},
   "outputs": [],
   "source": [
    "fruit[0]"
   ]
  },
  {
   "cell_type": "code",
   "execution_count": null,
   "id": "e70fa1f0",
   "metadata": {},
   "outputs": [],
   "source": [
    "fruit[-1]"
   ]
  },
  {
   "cell_type": "code",
   "execution_count": null,
   "id": "d1f4257c",
   "metadata": {},
   "outputs": [],
   "source": [
    "fruit[1::2]"
   ]
  },
  {
   "cell_type": "code",
   "execution_count": null,
   "id": "b754c723",
   "metadata": {},
   "outputs": [],
   "source": [
    "fruit[1:]"
   ]
  },
  {
   "cell_type": "code",
   "execution_count": null,
   "id": "19d1ea80",
   "metadata": {},
   "outputs": [],
   "source": [
    "fruit[:3]"
   ]
  },
  {
   "cell_type": "markdown",
   "id": "66c73185",
   "metadata": {},
   "source": [
    "# Python List Example "
   ]
  },
  {
   "cell_type": "code",
   "execution_count": 7,
   "id": "39488382",
   "metadata": {},
   "outputs": [],
   "source": [
    "listWeekDays = ['mon', 'tue', 'wed', 2]"
   ]
  },
  {
   "cell_type": "code",
   "execution_count": 8,
   "id": "2c63aff7",
   "metadata": {},
   "outputs": [
    {
     "data": {
      "text/plain": [
       "list"
      ]
     },
     "execution_count": 8,
     "metadata": {},
     "output_type": "execute_result"
    }
   ],
   "source": [
    "type(listWeekDays)"
   ]
  },
  {
   "cell_type": "markdown",
   "id": "838dc476",
   "metadata": {},
   "source": [
    "# Python Tuple Example"
   ]
  },
  {
   "cell_type": "code",
   "execution_count": 3,
   "id": "6ff6606a",
   "metadata": {},
   "outputs": [],
   "source": [
    "tupWeekDays = ('mon', 'tue', 'wed', 2)"
   ]
  },
  {
   "cell_type": "code",
   "execution_count": 4,
   "id": "a1bd96bd",
   "metadata": {},
   "outputs": [
    {
     "data": {
      "text/plain": [
       "tuple"
      ]
     },
     "execution_count": 4,
     "metadata": {},
     "output_type": "execute_result"
    }
   ],
   "source": [
    "type(tupWeekDays)"
   ]
  },
  {
   "cell_type": "code",
   "execution_count": null,
   "id": "a72fc1c3",
   "metadata": {},
   "outputs": [],
   "source": []
  }
 ],
 "metadata": {
  "kernelspec": {
   "display_name": "Python 3",
   "language": "python",
   "name": "python3"
  },
  "language_info": {
   "codemirror_mode": {
    "name": "ipython",
    "version": 3
   },
   "file_extension": ".py",
   "mimetype": "text/x-python",
   "name": "python",
   "nbconvert_exporter": "python",
   "pygments_lexer": "ipython3",
   "version": "3.9.5"
  }
 },
 "nbformat": 4,
 "nbformat_minor": 5
}
